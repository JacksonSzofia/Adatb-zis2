{
    "metadata": {
        "kernelspec": {
            "name": "SQL",
            "display_name": "SQL",
            "language": "sql"
        },
        "language_info": {
            "name": "sql",
            "version": ""
        }
    },
    "nbformat_minor": 2,
    "nbformat": 4,
    "cells": [
        {
            "cell_type": "code",
            "source": [
                "--1. feladat\r\n",
                "\r\n",
                "SELECT datediff(year, SZUL_DAT, getdate()) as 'Életkor', count(USERNEV) as 'Hányan vannak vendégek'\r\n",
                "FROM Vendeg\r\n",
                "WHERE datediff(year, SZUL_DAT, getdate()) >= 18\r\n",
                "GROUP BY datediff(year, SZUL_DAT, getdate())\r\n",
                "HAVING count(USERNEV) >= 5\r\n",
                "\r\n",
                ""
            ],
            "metadata": {
                "azdata_cell_guid": "950fbcb5-e257-45bf-816c-965645ba448f",
                "language": "sql"
            },
            "outputs": [
                {
                    "output_type": "display_data",
                    "data": {
                        "text/html": "(23 rows affected)"
                    },
                    "metadata": {}
                },
                {
                    "output_type": "display_data",
                    "data": {
                        "text/html": "Total execution time: 00:00:00.010"
                    },
                    "metadata": {}
                },
                {
                    "output_type": "execute_result",
                    "metadata": {},
                    "execution_count": 2,
                    "data": {
                        "application/vnd.dataresource+json": {
                            "schema": {
                                "fields": [
                                    {
                                        "name": "életkor"
                                    },
                                    {
                                        "name": "Hányan vannak vendégek"
                                    }
                                ]
                            },
                            "data": [
                                {
                                    "életkor": "28",
                                    "Hányan vannak vendégek": "12"
                                },
                                {
                                    "életkor": "29",
                                    "Hányan vannak vendégek": "7"
                                },
                                {
                                    "életkor": "30",
                                    "Hányan vannak vendégek": "6"
                                },
                                {
                                    "életkor": "32",
                                    "Hányan vannak vendégek": "5"
                                },
                                {
                                    "életkor": "34",
                                    "Hányan vannak vendégek": "6"
                                },
                                {
                                    "életkor": "35",
                                    "Hányan vannak vendégek": "8"
                                },
                                {
                                    "életkor": "36",
                                    "Hányan vannak vendégek": "7"
                                },
                                {
                                    "életkor": "37",
                                    "Hányan vannak vendégek": "6"
                                },
                                {
                                    "életkor": "38",
                                    "Hányan vannak vendégek": "5"
                                },
                                {
                                    "életkor": "39",
                                    "Hányan vannak vendégek": "9"
                                },
                                {
                                    "életkor": "40",
                                    "Hányan vannak vendégek": "6"
                                },
                                {
                                    "életkor": "41",
                                    "Hányan vannak vendégek": "8"
                                },
                                {
                                    "életkor": "42",
                                    "Hányan vannak vendégek": "8"
                                },
                                {
                                    "életkor": "45",
                                    "Hányan vannak vendégek": "7"
                                },
                                {
                                    "életkor": "46",
                                    "Hányan vannak vendégek": "7"
                                },
                                {
                                    "életkor": "47",
                                    "Hányan vannak vendégek": "7"
                                },
                                {
                                    "életkor": "48",
                                    "Hányan vannak vendégek": "5"
                                },
                                {
                                    "életkor": "49",
                                    "Hányan vannak vendégek": "7"
                                },
                                {
                                    "életkor": "50",
                                    "Hányan vannak vendégek": "10"
                                },
                                {
                                    "életkor": "54",
                                    "Hányan vannak vendégek": "5"
                                },
                                {
                                    "életkor": "56",
                                    "Hányan vannak vendégek": "8"
                                },
                                {
                                    "életkor": "57",
                                    "Hányan vannak vendégek": "7"
                                },
                                {
                                    "életkor": "58",
                                    "Hányan vannak vendégek": "8"
                                }
                            ]
                        },
                        "text/html": [
                            "<table>",
                            "<tr><th>életkor</th><th>Hányan vannak vendégek</th></tr>",
                            "<tr><td>28</td><td>12</td></tr>",
                            "<tr><td>29</td><td>7</td></tr>",
                            "<tr><td>30</td><td>6</td></tr>",
                            "<tr><td>32</td><td>5</td></tr>",
                            "<tr><td>34</td><td>6</td></tr>",
                            "<tr><td>35</td><td>8</td></tr>",
                            "<tr><td>36</td><td>7</td></tr>",
                            "<tr><td>37</td><td>6</td></tr>",
                            "<tr><td>38</td><td>5</td></tr>",
                            "<tr><td>39</td><td>9</td></tr>",
                            "<tr><td>40</td><td>6</td></tr>",
                            "<tr><td>41</td><td>8</td></tr>",
                            "<tr><td>42</td><td>8</td></tr>",
                            "<tr><td>45</td><td>7</td></tr>",
                            "<tr><td>46</td><td>7</td></tr>",
                            "<tr><td>47</td><td>7</td></tr>",
                            "<tr><td>48</td><td>5</td></tr>",
                            "<tr><td>49</td><td>7</td></tr>",
                            "<tr><td>50</td><td>10</td></tr>",
                            "<tr><td>54</td><td>5</td></tr>",
                            "<tr><td>56</td><td>8</td></tr>",
                            "<tr><td>57</td><td>7</td></tr>",
                            "<tr><td>58</td><td>8</td></tr>",
                            "</table>"
                        ]
                    }
                }
            ],
            "execution_count": 2
        },
        {
            "cell_type": "code",
            "source": [
                "--2. feladat\r\n",
                "SELECT sza.SZALLAS_NEV as 'Szálláshely neve', szo.SZOBA_SZAMA as 'Szoba száma', count(f.FOGLALAS_PK) as 'Foglalások száma'\r\n",
                "FROM szoba szo left join szallashely sza on szo.SZALLAS_FK =  sza.SZALLAS_ID\r\n",
                "                 join foglalas f on szo.szoba_ID = f.szoba_FK\r\n",
                "WHERE f.SZOBA_FK is NOT null\r\n",
                "group BY sza.SZALLAS_NEV, szo.SZOBA_SZAMA\r\n",
                ""
            ],
            "metadata": {
                "azdata_cell_guid": "6e4778fe-a70b-478b-806c-8130fea4f0a5",
                "language": "sql"
            },
            "outputs": [
                {
                    "output_type": "display_data",
                    "data": {
                        "text/html": "(187 rows affected)"
                    },
                    "metadata": {}
                },
                {
                    "output_type": "display_data",
                    "data": {
                        "text/html": "Total execution time: 00:00:00.041"
                    },
                    "metadata": {}
                },
                {
                    "output_type": "execute_result",
                    "metadata": {},
                    "execution_count": 10,
                    "data": {
                        "application/vnd.dataresource+json": {
                            "schema": {
                                "fields": [
                                    {
                                        "name": "Szálláshely neve"
                                    },
                                    {
                                        "name": "Szoba száma"
                                    },
                                    {
                                        "name": "Foglalások száma"
                                    }
                                ]
                            },
                            "data": [
                                {
                                    "Szálláshely neve": "Családi Ház",
                                    "Szoba száma": "1",
                                    "Foglalások száma": "4"
                                },
                                {
                                    "Szálláshely neve": "Fortuna Apartman",
                                    "Szoba száma": "1",
                                    "Foglalások száma": "6"
                                },
                                {
                                    "Szálláshely neve": "Fortuna Panzió",
                                    "Szoba száma": "1",
                                    "Foglalások száma": "6"
                                },
                                {
                                    "Szálláshely neve": "Gold Hotel",
                                    "Szoba száma": "1",
                                    "Foglalások száma": "7"
                                },
                                {
                                    "Szálláshely neve": "Hotel Három Hattyú",
                                    "Szoba száma": "1",
                                    "Foglalások száma": "4"
                                },
                                {
                                    "Szálláshely neve": "Jáde panzió",
                                    "Szoba száma": "1",
                                    "Foglalások száma": "6"
                                },
                                {
                                    "Szálláshely neve": "Kentaur Hotel",
                                    "Szoba száma": "1",
                                    "Foglalások száma": "4"
                                },
                                {
                                    "Szálláshely neve": "Lagúna Hotel",
                                    "Szoba száma": "1",
                                    "Foglalások száma": "3"
                                },
                                {
                                    "Szálláshely neve": "Partiszél Vendégház",
                                    "Szoba száma": "1",
                                    "Foglalások száma": "5"
                                },
                                {
                                    "Szálláshely neve": "Sába-Ház",
                                    "Szoba száma": "1",
                                    "Foglalások száma": "8"
                                },
                                {
                                    "Szálláshely neve": "Szieszta Apartmanház",
                                    "Szoba száma": "1",
                                    "Foglalások száma": "4"
                                },
                                {
                                    "Szálláshely neve": "Fortuna Panzió",
                                    "Szoba száma": "10",
                                    "Foglalások száma": "11"
                                },
                                {
                                    "Szálláshely neve": "Gold Hotel",
                                    "Szoba száma": "10",
                                    "Foglalások száma": "4"
                                },
                                {
                                    "Szálláshely neve": "Hotel Három Hattyú",
                                    "Szoba száma": "10",
                                    "Foglalások száma": "4"
                                },
                                {
                                    "Szálláshely neve": "Kentaur Hotel",
                                    "Szoba száma": "10",
                                    "Foglalások száma": "7"
                                },
                                {
                                    "Szálláshely neve": "Lagúna Hotel",
                                    "Szoba száma": "10",
                                    "Foglalások száma": "5"
                                },
                                {
                                    "Szálláshely neve": "Sába-Ház",
                                    "Szoba száma": "10",
                                    "Foglalások száma": "4"
                                },
                                {
                                    "Szálláshely neve": "Fortuna panzió",
                                    "Szoba száma": "11",
                                    "Foglalások száma": "9"
                                },
                                {
                                    "Szálláshely neve": "Gold Hotel",
                                    "Szoba száma": "11",
                                    "Foglalások száma": "5"
                                },
                                {
                                    "Szálláshely neve": "Hotel Három Hattyú",
                                    "Szoba száma": "11",
                                    "Foglalások száma": "3"
                                },
                                {
                                    "Szálláshely neve": "Kentaur Hotel",
                                    "Szoba száma": "11",
                                    "Foglalások száma": "1"
                                },
                                {
                                    "Szálláshely neve": "Lagúna Hotel",
                                    "Szoba száma": "11",
                                    "Foglalások száma": "6"
                                },
                                {
                                    "Szálláshely neve": "Sába-Ház",
                                    "Szoba száma": "11",
                                    "Foglalások száma": "4"
                                },
                                {
                                    "Szálláshely neve": "Fortuna panzió",
                                    "Szoba száma": "12",
                                    "Foglalások száma": "6"
                                },
                                {
                                    "Szálláshely neve": "Gold Hotel",
                                    "Szoba száma": "12",
                                    "Foglalások száma": "6"
                                },
                                {
                                    "Szálláshely neve": "Hotel Három Hattyú",
                                    "Szoba száma": "12",
                                    "Foglalások száma": "2"
                                },
                                {
                                    "Szálláshely neve": "Kentaur Hotel",
                                    "Szoba száma": "12",
                                    "Foglalások száma": "5"
                                },
                                {
                                    "Szálláshely neve": "Lagúna Hotel",
                                    "Szoba száma": "12",
                                    "Foglalások száma": "6"
                                },
                                {
                                    "Szálláshely neve": "Sába-Ház",
                                    "Szoba száma": "12",
                                    "Foglalások száma": "9"
                                },
                                {
                                    "Szálláshely neve": "Fortuna panzió",
                                    "Szoba száma": "13",
                                    "Foglalások száma": "3"
                                },
                                {
                                    "Szálláshely neve": "Gold Hotel",
                                    "Szoba száma": "13",
                                    "Foglalások száma": "4"
                                },
                                {
                                    "Szálláshely neve": "Hotel Három Hattyú",
                                    "Szoba száma": "13",
                                    "Foglalások száma": "4"
                                },
                                {
                                    "Szálláshely neve": "Kentaur Hotel",
                                    "Szoba száma": "13",
                                    "Foglalások száma": "5"
                                },
                                {
                                    "Szálláshely neve": "Lagúna Hotel",
                                    "Szoba száma": "13",
                                    "Foglalások száma": "1"
                                },
                                {
                                    "Szálláshely neve": "Fortuna panzió",
                                    "Szoba száma": "14",
                                    "Foglalások száma": "8"
                                },
                                {
                                    "Szálláshely neve": "Gold Hotel",
                                    "Szoba száma": "14",
                                    "Foglalások száma": "4"
                                },
                                {
                                    "Szálláshely neve": "Hotel Három Hattyú",
                                    "Szoba száma": "14",
                                    "Foglalások száma": "4"
                                },
                                {
                                    "Szálláshely neve": "Kentaur Hotel",
                                    "Szoba száma": "14",
                                    "Foglalások száma": "4"
                                },
                                {
                                    "Szálláshely neve": "Lagúna Hotel",
                                    "Szoba száma": "14",
                                    "Foglalások száma": "6"
                                },
                                {
                                    "Szálláshely neve": "Fortuna panzió",
                                    "Szoba száma": "15",
                                    "Foglalások száma": "7"
                                },
                                {
                                    "Szálláshely neve": "Gold Hotel",
                                    "Szoba száma": "15",
                                    "Foglalások száma": "3"
                                },
                                {
                                    "Szálláshely neve": "Hotel Három Hattyú",
                                    "Szoba száma": "15",
                                    "Foglalások száma": "2"
                                },
                                {
                                    "Szálláshely neve": "Kentaur Hotel",
                                    "Szoba száma": "15",
                                    "Foglalások száma": "6"
                                },
                                {
                                    "Szálláshely neve": "Lagúna Hotel",
                                    "Szoba száma": "15",
                                    "Foglalások száma": "7"
                                },
                                {
                                    "Szálláshely neve": "Gold Hotel",
                                    "Szoba száma": "16",
                                    "Foglalások száma": "3"
                                },
                                {
                                    "Szálláshely neve": "Hotel Három Hattyú",
                                    "Szoba száma": "16",
                                    "Foglalások száma": "6"
                                },
                                {
                                    "Szálláshely neve": "Kentaur Hotel",
                                    "Szoba száma": "16",
                                    "Foglalások száma": "1"
                                },
                                {
                                    "Szálláshely neve": "Lagúna Hotel",
                                    "Szoba száma": "16",
                                    "Foglalások száma": "6"
                                },
                                {
                                    "Szálláshely neve": "Gold Hotel",
                                    "Szoba száma": "17",
                                    "Foglalások száma": "6"
                                },
                                {
                                    "Szálláshely neve": "Hotel Három Hattyú",
                                    "Szoba száma": "17",
                                    "Foglalások száma": "5"
                                },
                                {
                                    "Szálláshely neve": "Kentaur Hotel",
                                    "Szoba száma": "17",
                                    "Foglalások száma": "4"
                                },
                                {
                                    "Szálláshely neve": "Lagúna Hotel",
                                    "Szoba száma": "17",
                                    "Foglalások száma": "3"
                                },
                                {
                                    "Szálláshely neve": "Gold Hotel",
                                    "Szoba száma": "18",
                                    "Foglalások száma": "12"
                                },
                                {
                                    "Szálláshely neve": "Hotel Három Hattyú",
                                    "Szoba száma": "18",
                                    "Foglalások száma": "2"
                                },
                                {
                                    "Szálláshely neve": "Kentaur Hotel",
                                    "Szoba száma": "18",
                                    "Foglalások száma": "6"
                                },
                                {
                                    "Szálláshely neve": "Lagúna Hotel",
                                    "Szoba száma": "18",
                                    "Foglalások száma": "4"
                                },
                                {
                                    "Szálláshely neve": "Gold Hotel",
                                    "Szoba száma": "19",
                                    "Foglalások száma": "4"
                                },
                                {
                                    "Szálláshely neve": "Hotel Három Hattyú",
                                    "Szoba száma": "19",
                                    "Foglalások száma": "7"
                                },
                                {
                                    "Szálláshely neve": "Kentaur Hotel",
                                    "Szoba száma": "19",
                                    "Foglalások száma": "3"
                                },
                                {
                                    "Szálláshely neve": "Lagúna Hotel",
                                    "Szoba száma": "19",
                                    "Foglalások száma": "5"
                                },
                                {
                                    "Szálláshely neve": "Családi Ház",
                                    "Szoba száma": "2",
                                    "Foglalások száma": "3"
                                },
                                {
                                    "Szálláshely neve": "Fortuna Apartman",
                                    "Szoba száma": "2",
                                    "Foglalások száma": "6"
                                },
                                {
                                    "Szálláshely neve": "Fortuna Panzió",
                                    "Szoba száma": "2",
                                    "Foglalások száma": "4"
                                },
                                {
                                    "Szálláshely neve": "Gold Hotel",
                                    "Szoba száma": "2",
                                    "Foglalások száma": "3"
                                },
                                {
                                    "Szálláshely neve": "Hotel Három Hattyú",
                                    "Szoba száma": "2",
                                    "Foglalások száma": "6"
                                },
                                {
                                    "Szálláshely neve": "Jáde panzió",
                                    "Szoba száma": "2",
                                    "Foglalások száma": "5"
                                },
                                {
                                    "Szálláshely neve": "Kentaur Hotel",
                                    "Szoba száma": "2",
                                    "Foglalások száma": "5"
                                },
                                {
                                    "Szálláshely neve": "Lagúna Hotel",
                                    "Szoba száma": "2",
                                    "Foglalások száma": "3"
                                },
                                {
                                    "Szálláshely neve": "Partiszél Vendégház",
                                    "Szoba száma": "2",
                                    "Foglalások száma": "6"
                                },
                                {
                                    "Szálláshely neve": "Sába-Ház",
                                    "Szoba száma": "2",
                                    "Foglalások száma": "4"
                                },
                                {
                                    "Szálláshely neve": "Szieszta Apartmanház",
                                    "Szoba száma": "2",
                                    "Foglalások száma": "5"
                                },
                                {
                                    "Szálláshely neve": "Gold Hotel",
                                    "Szoba száma": "20",
                                    "Foglalások száma": "4"
                                },
                                {
                                    "Szálláshely neve": "Hotel Három Hattyú",
                                    "Szoba száma": "20",
                                    "Foglalások száma": "8"
                                },
                                {
                                    "Szálláshely neve": "Kentaur Hotel",
                                    "Szoba száma": "20",
                                    "Foglalások száma": "4"
                                },
                                {
                                    "Szálláshely neve": "Lagúna Hotel",
                                    "Szoba száma": "20",
                                    "Foglalások száma": "5"
                                },
                                {
                                    "Szálláshely neve": "Gold Hotel",
                                    "Szoba száma": "21",
                                    "Foglalások száma": "12"
                                },
                                {
                                    "Szálláshely neve": "Hotel Három Hattyú",
                                    "Szoba száma": "21",
                                    "Foglalások száma": "5"
                                },
                                {
                                    "Szálláshely neve": "Kentaur Hotel",
                                    "Szoba száma": "21",
                                    "Foglalások száma": "11"
                                },
                                {
                                    "Szálláshely neve": "Lagúna Hotel",
                                    "Szoba száma": "21",
                                    "Foglalások száma": "5"
                                },
                                {
                                    "Szálláshely neve": "Gold Hotel",
                                    "Szoba száma": "22",
                                    "Foglalások száma": "4"
                                },
                                {
                                    "Szálláshely neve": "Hotel Három Hattyú",
                                    "Szoba száma": "22",
                                    "Foglalások száma": "5"
                                },
                                {
                                    "Szálláshely neve": "Kentaur Hotel",
                                    "Szoba száma": "22",
                                    "Foglalások száma": "3"
                                },
                                {
                                    "Szálláshely neve": "Lagúna Hotel",
                                    "Szoba száma": "22",
                                    "Foglalások száma": "7"
                                },
                                {
                                    "Szálláshely neve": "Gold Hotel",
                                    "Szoba száma": "23",
                                    "Foglalások száma": "7"
                                },
                                {
                                    "Szálláshely neve": "Hotel Három Hattyú",
                                    "Szoba száma": "23",
                                    "Foglalások száma": "5"
                                },
                                {
                                    "Szálláshely neve": "Kentaur Hotel",
                                    "Szoba száma": "23",
                                    "Foglalások száma": "4"
                                },
                                {
                                    "Szálláshely neve": "Lagúna Hotel",
                                    "Szoba száma": "23",
                                    "Foglalások száma": "5"
                                },
                                {
                                    "Szálláshely neve": "Gold Hotel",
                                    "Szoba száma": "24",
                                    "Foglalások száma": "6"
                                },
                                {
                                    "Szálláshely neve": "Hotel Három Hattyú",
                                    "Szoba száma": "24",
                                    "Foglalások száma": "4"
                                },
                                {
                                    "Szálláshely neve": "Kentaur Hotel",
                                    "Szoba száma": "24",
                                    "Foglalások száma": "4"
                                },
                                {
                                    "Szálláshely neve": "Lagúna Hotel",
                                    "Szoba száma": "24",
                                    "Foglalások száma": "3"
                                },
                                {
                                    "Szálláshely neve": "Gold Hotel",
                                    "Szoba száma": "25",
                                    "Foglalások száma": "5"
                                },
                                {
                                    "Szálláshely neve": "Hotel Három Hattyú",
                                    "Szoba száma": "25",
                                    "Foglalások száma": "7"
                                },
                                {
                                    "Szálláshely neve": "Kentaur Hotel",
                                    "Szoba száma": "25",
                                    "Foglalások száma": "9"
                                },
                                {
                                    "Szálláshely neve": "Gold Hotel",
                                    "Szoba száma": "26",
                                    "Foglalások száma": "5"
                                },
                                {
                                    "Szálláshely neve": "Hotel Három Hattyú",
                                    "Szoba száma": "26",
                                    "Foglalások száma": "2"
                                },
                                {
                                    "Szálláshely neve": "Kentaur Hotel",
                                    "Szoba száma": "26",
                                    "Foglalások száma": "3"
                                },
                                {
                                    "Szálláshely neve": "Gold Hotel",
                                    "Szoba száma": "27",
                                    "Foglalások száma": "5"
                                },
                                {
                                    "Szálláshely neve": "Hotel Három Hattyú",
                                    "Szoba száma": "27",
                                    "Foglalások száma": "8"
                                },
                                {
                                    "Szálláshely neve": "Kentaur Hotel",
                                    "Szoba száma": "27",
                                    "Foglalások száma": "3"
                                },
                                {
                                    "Szálláshely neve": "Gold Hotel",
                                    "Szoba száma": "28",
                                    "Foglalások száma": "2"
                                },
                                {
                                    "Szálláshely neve": "Hotel Három Hattyú",
                                    "Szoba száma": "28",
                                    "Foglalások száma": "7"
                                },
                                {
                                    "Szálláshely neve": "Kentaur Hotel",
                                    "Szoba száma": "28",
                                    "Foglalások száma": "6"
                                },
                                {
                                    "Szálláshely neve": "Gold Hotel",
                                    "Szoba száma": "29",
                                    "Foglalások száma": "7"
                                },
                                {
                                    "Szálláshely neve": "Hotel Három Hattyú",
                                    "Szoba száma": "29",
                                    "Foglalások száma": "5"
                                },
                                {
                                    "Szálláshely neve": "Kentaur Hotel",
                                    "Szoba száma": "29",
                                    "Foglalások száma": "6"
                                },
                                {
                                    "Szálláshely neve": "Családi Ház",
                                    "Szoba száma": "3",
                                    "Foglalások száma": "6"
                                },
                                {
                                    "Szálláshely neve": "Fortuna Apartman",
                                    "Szoba száma": "3",
                                    "Foglalások száma": "6"
                                },
                                {
                                    "Szálláshely neve": "Fortuna panzió",
                                    "Szoba száma": "3",
                                    "Foglalások száma": "13"
                                },
                                {
                                    "Szálláshely neve": "Gold Hotel",
                                    "Szoba száma": "3",
                                    "Foglalások száma": "2"
                                },
                                {
                                    "Szálláshely neve": "Hotel Három Hattyú",
                                    "Szoba száma": "3",
                                    "Foglalások száma": "5"
                                },
                                {
                                    "Szálláshely neve": "Jáde panzió",
                                    "Szoba száma": "3",
                                    "Foglalások száma": "6"
                                },
                                {
                                    "Szálláshely neve": "Kentaur Hotel",
                                    "Szoba száma": "3",
                                    "Foglalások száma": "5"
                                },
                                {
                                    "Szálláshely neve": "Lagúna Hotel",
                                    "Szoba száma": "3",
                                    "Foglalások száma": "6"
                                },
                                {
                                    "Szálláshely neve": "Partiszél Vendégház",
                                    "Szoba száma": "3",
                                    "Foglalások száma": "3"
                                },
                                {
                                    "Szálláshely neve": "Sába-Ház",
                                    "Szoba száma": "3",
                                    "Foglalások száma": "8"
                                },
                                {
                                    "Szálláshely neve": "Szieszta Apartmanház",
                                    "Szoba száma": "3",
                                    "Foglalások száma": "5"
                                },
                                {
                                    "Szálláshely neve": "Gold Hotel",
                                    "Szoba száma": "30",
                                    "Foglalások száma": "1"
                                },
                                {
                                    "Szálláshely neve": "Hotel Három Hattyú",
                                    "Szoba száma": "30",
                                    "Foglalások száma": "6"
                                },
                                {
                                    "Szálláshely neve": "Kentaur Hotel",
                                    "Szoba száma": "30",
                                    "Foglalások száma": "5"
                                },
                                {
                                    "Szálláshely neve": "Gold Hotel",
                                    "Szoba száma": "31",
                                    "Foglalások száma": "6"
                                },
                                {
                                    "Szálláshely neve": "Hotel Három Hattyú",
                                    "Szoba száma": "31",
                                    "Foglalások száma": "8"
                                },
                                {
                                    "Szálláshely neve": "Kentaur Hotel",
                                    "Szoba száma": "31",
                                    "Foglalások száma": "7"
                                },
                                {
                                    "Szálláshely neve": "Gold Hotel",
                                    "Szoba száma": "32",
                                    "Foglalások száma": "4"
                                },
                                {
                                    "Szálláshely neve": "Hotel Három Hattyú",
                                    "Szoba száma": "32",
                                    "Foglalások száma": "9"
                                },
                                {
                                    "Szálláshely neve": "Kentaur Hotel",
                                    "Szoba száma": "32",
                                    "Foglalások száma": "5"
                                },
                                {
                                    "Szálláshely neve": "Gold Hotel",
                                    "Szoba száma": "33",
                                    "Foglalások száma": "6"
                                },
                                {
                                    "Szálláshely neve": "Hotel Három Hattyú",
                                    "Szoba száma": "33",
                                    "Foglalások száma": "5"
                                },
                                {
                                    "Szálláshely neve": "Kentaur Hotel",
                                    "Szoba száma": "33",
                                    "Foglalások száma": "6"
                                },
                                {
                                    "Szálláshely neve": "Gold Hotel",
                                    "Szoba száma": "34",
                                    "Foglalások száma": "8"
                                },
                                {
                                    "Szálláshely neve": "Hotel Három Hattyú",
                                    "Szoba száma": "34",
                                    "Foglalások száma": "6"
                                },
                                {
                                    "Szálláshely neve": "Kentaur Hotel",
                                    "Szoba száma": "34",
                                    "Foglalások száma": "8"
                                },
                                {
                                    "Szálláshely neve": "Hotel Három Hattyú",
                                    "Szoba száma": "35",
                                    "Foglalások száma": "1"
                                },
                                {
                                    "Szálláshely neve": "Kentaur Hotel",
                                    "Szoba száma": "35",
                                    "Foglalások száma": "4"
                                },
                                {
                                    "Szálláshely neve": "Hotel Három Hattyú",
                                    "Szoba száma": "36",
                                    "Foglalások száma": "6"
                                },
                                {
                                    "Szálláshely neve": "Hotel Három Hattyú",
                                    "Szoba száma": "37",
                                    "Foglalások száma": "7"
                                },
                                {
                                    "Szálláshely neve": "Hotel Három Hattyú",
                                    "Szoba száma": "38",
                                    "Foglalások száma": "5"
                                },
                                {
                                    "Szálláshely neve": "Hotel Három Hattyú",
                                    "Szoba száma": "39",
                                    "Foglalások száma": "4"
                                },
                                {
                                    "Szálláshely neve": "Családi Ház",
                                    "Szoba száma": "4",
                                    "Foglalások száma": "5"
                                },
                                {
                                    "Szálláshely neve": "Fortuna Apartman",
                                    "Szoba száma": "4",
                                    "Foglalások száma": "5"
                                },
                                {
                                    "Szálláshely neve": "Fortuna panzió",
                                    "Szoba száma": "4",
                                    "Foglalások száma": "14"
                                },
                                {
                                    "Szálláshely neve": "Gold Hotel",
                                    "Szoba száma": "4",
                                    "Foglalások száma": "5"
                                },
                                {
                                    "Szálláshely neve": "Hotel Három Hattyú",
                                    "Szoba száma": "4",
                                    "Foglalások száma": "10"
                                },
                                {
                                    "Szálláshely neve": "Jáde panzió",
                                    "Szoba száma": "4",
                                    "Foglalások száma": "6"
                                },
                                {
                                    "Szálláshely neve": "Kentaur Hotel",
                                    "Szoba száma": "4",
                                    "Foglalások száma": "2"
                                },
                                {
                                    "Szálláshely neve": "Lagúna Hotel",
                                    "Szoba száma": "4",
                                    "Foglalások száma": "7"
                                },
                                {
                                    "Szálláshely neve": "Partiszél Vendégház",
                                    "Szoba száma": "4",
                                    "Foglalások száma": "7"
                                },
                                {
                                    "Szálláshely neve": "Sába-Ház",
                                    "Szoba száma": "4",
                                    "Foglalások száma": "6"
                                },
                                {
                                    "Szálláshely neve": "Szieszta Apartmanház",
                                    "Szoba száma": "4",
                                    "Foglalások száma": "8"
                                },
                                {
                                    "Szálláshely neve": "Fortuna Apartman",
                                    "Szoba száma": "5",
                                    "Foglalások száma": "4"
                                },
                                {
                                    "Szálláshely neve": "Fortuna panzió",
                                    "Szoba száma": "5",
                                    "Foglalások száma": "12"
                                },
                                {
                                    "Szálláshely neve": "Gold Hotel",
                                    "Szoba száma": "5",
                                    "Foglalások száma": "6"
                                },
                                {
                                    "Szálláshely neve": "Hotel Három Hattyú",
                                    "Szoba száma": "5",
                                    "Foglalások száma": "4"
                                },
                                {
                                    "Szálláshely neve": "Jáde panzió",
                                    "Szoba száma": "5",
                                    "Foglalások száma": "6"
                                },
                                {
                                    "Szálláshely neve": "Kentaur Hotel",
                                    "Szoba száma": "5",
                                    "Foglalások száma": "6"
                                },
                                {
                                    "Szálláshely neve": "Lagúna Hotel",
                                    "Szoba száma": "5",
                                    "Foglalások száma": "7"
                                },
                                {
                                    "Szálláshely neve": "Partiszél Vendégház",
                                    "Szoba száma": "5",
                                    "Foglalások száma": "5"
                                },
                                {
                                    "Szálláshely neve": "Sába-Ház",
                                    "Szoba száma": "5",
                                    "Foglalások száma": "4"
                                },
                                {
                                    "Szálláshely neve": "Szieszta Apartmanház",
                                    "Szoba száma": "5",
                                    "Foglalások száma": "8"
                                },
                                {
                                    "Szálláshely neve": "Fortuna Apartman",
                                    "Szoba száma": "6",
                                    "Foglalások száma": "6"
                                },
                                {
                                    "Szálláshely neve": "Fortuna Panzió",
                                    "Szoba száma": "6",
                                    "Foglalások száma": "8"
                                },
                                {
                                    "Szálláshely neve": "Gold Hotel",
                                    "Szoba száma": "6",
                                    "Foglalások száma": "5"
                                },
                                {
                                    "Szálláshely neve": "Hotel Három Hattyú",
                                    "Szoba száma": "6",
                                    "Foglalások száma": "7"
                                },
                                {
                                    "Szálláshely neve": "Kentaur Hotel",
                                    "Szoba száma": "6",
                                    "Foglalások száma": "8"
                                },
                                {
                                    "Szálláshely neve": "Lagúna Hotel",
                                    "Szoba száma": "6",
                                    "Foglalások száma": "8"
                                },
                                {
                                    "Szálláshely neve": "Sába-Ház",
                                    "Szoba száma": "6",
                                    "Foglalások száma": "6"
                                },
                                {
                                    "Szálláshely neve": "Szieszta Apartmanház",
                                    "Szoba száma": "6",
                                    "Foglalások száma": "4"
                                },
                                {
                                    "Szálláshely neve": "Fortuna Apartman",
                                    "Szoba száma": "7",
                                    "Foglalások száma": "3"
                                },
                                {
                                    "Szálláshely neve": "Fortuna panzió",
                                    "Szoba száma": "7",
                                    "Foglalások száma": "7"
                                },
                                {
                                    "Szálláshely neve": "Gold Hotel",
                                    "Szoba száma": "7",
                                    "Foglalások száma": "5"
                                },
                                {
                                    "Szálláshely neve": "Hotel Három Hattyú",
                                    "Szoba száma": "7",
                                    "Foglalások száma": "7"
                                },
                                {
                                    "Szálláshely neve": "Kentaur Hotel",
                                    "Szoba száma": "7",
                                    "Foglalások száma": "2"
                                },
                                {
                                    "Szálláshely neve": "Lagúna Hotel",
                                    "Szoba száma": "7",
                                    "Foglalások száma": "6"
                                },
                                {
                                    "Szálláshely neve": "Sába-Ház",
                                    "Szoba száma": "7",
                                    "Foglalások száma": "6"
                                },
                                {
                                    "Szálláshely neve": "Fortuna Apartman",
                                    "Szoba száma": "8",
                                    "Foglalások száma": "3"
                                },
                                {
                                    "Szálláshely neve": "Fortuna panzió",
                                    "Szoba száma": "8",
                                    "Foglalások száma": "3"
                                },
                                {
                                    "Szálláshely neve": "Gold Hotel",
                                    "Szoba száma": "8",
                                    "Foglalások száma": "9"
                                },
                                {
                                    "Szálláshely neve": "Hotel Három Hattyú",
                                    "Szoba száma": "8",
                                    "Foglalások száma": "4"
                                },
                                {
                                    "Szálláshely neve": "Kentaur Hotel",
                                    "Szoba száma": "8",
                                    "Foglalások száma": "4"
                                },
                                {
                                    "Szálláshely neve": "Lagúna Hotel",
                                    "Szoba száma": "8",
                                    "Foglalások száma": "2"
                                },
                                {
                                    "Szálláshely neve": "Sába-Ház",
                                    "Szoba száma": "8",
                                    "Foglalások száma": "5"
                                },
                                {
                                    "Szálláshely neve": "Fortuna Panzió",
                                    "Szoba száma": "9",
                                    "Foglalások száma": "15"
                                },
                                {
                                    "Szálláshely neve": "Gold Hotel",
                                    "Szoba száma": "9",
                                    "Foglalások száma": "4"
                                },
                                {
                                    "Szálláshely neve": "Hotel Három Hattyú",
                                    "Szoba száma": "9",
                                    "Foglalások száma": "5"
                                },
                                {
                                    "Szálláshely neve": "Kentaur Hotel",
                                    "Szoba száma": "9",
                                    "Foglalások száma": "13"
                                },
                                {
                                    "Szálláshely neve": "Lagúna Hotel",
                                    "Szoba száma": "9",
                                    "Foglalások száma": "7"
                                },
                                {
                                    "Szálláshely neve": "Sába-Ház",
                                    "Szoba száma": "9",
                                    "Foglalások száma": "6"
                                }
                            ]
                        },
                        "text/html": [
                            "<table>",
                            "<tr><th>Szálláshely neve</th><th>Szoba száma</th><th>Foglalások száma</th></tr>",
                            "<tr><td>Családi Ház</td><td>1</td><td>4</td></tr>",
                            "<tr><td>Fortuna Apartman</td><td>1</td><td>6</td></tr>",
                            "<tr><td>Fortuna Panzió</td><td>1</td><td>6</td></tr>",
                            "<tr><td>Gold Hotel</td><td>1</td><td>7</td></tr>",
                            "<tr><td>Hotel Három Hattyú</td><td>1</td><td>4</td></tr>",
                            "<tr><td>Jáde panzió</td><td>1</td><td>6</td></tr>",
                            "<tr><td>Kentaur Hotel</td><td>1</td><td>4</td></tr>",
                            "<tr><td>Lagúna Hotel</td><td>1</td><td>3</td></tr>",
                            "<tr><td>Partiszél Vendégház</td><td>1</td><td>5</td></tr>",
                            "<tr><td>Sába-Ház</td><td>1</td><td>8</td></tr>",
                            "<tr><td>Szieszta Apartmanház</td><td>1</td><td>4</td></tr>",
                            "<tr><td>Fortuna Panzió</td><td>10</td><td>11</td></tr>",
                            "<tr><td>Gold Hotel</td><td>10</td><td>4</td></tr>",
                            "<tr><td>Hotel Három Hattyú</td><td>10</td><td>4</td></tr>",
                            "<tr><td>Kentaur Hotel</td><td>10</td><td>7</td></tr>",
                            "<tr><td>Lagúna Hotel</td><td>10</td><td>5</td></tr>",
                            "<tr><td>Sába-Ház</td><td>10</td><td>4</td></tr>",
                            "<tr><td>Fortuna panzió</td><td>11</td><td>9</td></tr>",
                            "<tr><td>Gold Hotel</td><td>11</td><td>5</td></tr>",
                            "<tr><td>Hotel Három Hattyú</td><td>11</td><td>3</td></tr>",
                            "<tr><td>Kentaur Hotel</td><td>11</td><td>1</td></tr>",
                            "<tr><td>Lagúna Hotel</td><td>11</td><td>6</td></tr>",
                            "<tr><td>Sába-Ház</td><td>11</td><td>4</td></tr>",
                            "<tr><td>Fortuna panzió</td><td>12</td><td>6</td></tr>",
                            "<tr><td>Gold Hotel</td><td>12</td><td>6</td></tr>",
                            "<tr><td>Hotel Három Hattyú</td><td>12</td><td>2</td></tr>",
                            "<tr><td>Kentaur Hotel</td><td>12</td><td>5</td></tr>",
                            "<tr><td>Lagúna Hotel</td><td>12</td><td>6</td></tr>",
                            "<tr><td>Sába-Ház</td><td>12</td><td>9</td></tr>",
                            "<tr><td>Fortuna panzió</td><td>13</td><td>3</td></tr>",
                            "<tr><td>Gold Hotel</td><td>13</td><td>4</td></tr>",
                            "<tr><td>Hotel Három Hattyú</td><td>13</td><td>4</td></tr>",
                            "<tr><td>Kentaur Hotel</td><td>13</td><td>5</td></tr>",
                            "<tr><td>Lagúna Hotel</td><td>13</td><td>1</td></tr>",
                            "<tr><td>Fortuna panzió</td><td>14</td><td>8</td></tr>",
                            "<tr><td>Gold Hotel</td><td>14</td><td>4</td></tr>",
                            "<tr><td>Hotel Három Hattyú</td><td>14</td><td>4</td></tr>",
                            "<tr><td>Kentaur Hotel</td><td>14</td><td>4</td></tr>",
                            "<tr><td>Lagúna Hotel</td><td>14</td><td>6</td></tr>",
                            "<tr><td>Fortuna panzió</td><td>15</td><td>7</td></tr>",
                            "<tr><td>Gold Hotel</td><td>15</td><td>3</td></tr>",
                            "<tr><td>Hotel Három Hattyú</td><td>15</td><td>2</td></tr>",
                            "<tr><td>Kentaur Hotel</td><td>15</td><td>6</td></tr>",
                            "<tr><td>Lagúna Hotel</td><td>15</td><td>7</td></tr>",
                            "<tr><td>Gold Hotel</td><td>16</td><td>3</td></tr>",
                            "<tr><td>Hotel Három Hattyú</td><td>16</td><td>6</td></tr>",
                            "<tr><td>Kentaur Hotel</td><td>16</td><td>1</td></tr>",
                            "<tr><td>Lagúna Hotel</td><td>16</td><td>6</td></tr>",
                            "<tr><td>Gold Hotel</td><td>17</td><td>6</td></tr>",
                            "<tr><td>Hotel Három Hattyú</td><td>17</td><td>5</td></tr>",
                            "<tr><td>Kentaur Hotel</td><td>17</td><td>4</td></tr>",
                            "<tr><td>Lagúna Hotel</td><td>17</td><td>3</td></tr>",
                            "<tr><td>Gold Hotel</td><td>18</td><td>12</td></tr>",
                            "<tr><td>Hotel Három Hattyú</td><td>18</td><td>2</td></tr>",
                            "<tr><td>Kentaur Hotel</td><td>18</td><td>6</td></tr>",
                            "<tr><td>Lagúna Hotel</td><td>18</td><td>4</td></tr>",
                            "<tr><td>Gold Hotel</td><td>19</td><td>4</td></tr>",
                            "<tr><td>Hotel Három Hattyú</td><td>19</td><td>7</td></tr>",
                            "<tr><td>Kentaur Hotel</td><td>19</td><td>3</td></tr>",
                            "<tr><td>Lagúna Hotel</td><td>19</td><td>5</td></tr>",
                            "<tr><td>Családi Ház</td><td>2</td><td>3</td></tr>",
                            "<tr><td>Fortuna Apartman</td><td>2</td><td>6</td></tr>",
                            "<tr><td>Fortuna Panzió</td><td>2</td><td>4</td></tr>",
                            "<tr><td>Gold Hotel</td><td>2</td><td>3</td></tr>",
                            "<tr><td>Hotel Három Hattyú</td><td>2</td><td>6</td></tr>",
                            "<tr><td>Jáde panzió</td><td>2</td><td>5</td></tr>",
                            "<tr><td>Kentaur Hotel</td><td>2</td><td>5</td></tr>",
                            "<tr><td>Lagúna Hotel</td><td>2</td><td>3</td></tr>",
                            "<tr><td>Partiszél Vendégház</td><td>2</td><td>6</td></tr>",
                            "<tr><td>Sába-Ház</td><td>2</td><td>4</td></tr>",
                            "<tr><td>Szieszta Apartmanház</td><td>2</td><td>5</td></tr>",
                            "<tr><td>Gold Hotel</td><td>20</td><td>4</td></tr>",
                            "<tr><td>Hotel Három Hattyú</td><td>20</td><td>8</td></tr>",
                            "<tr><td>Kentaur Hotel</td><td>20</td><td>4</td></tr>",
                            "<tr><td>Lagúna Hotel</td><td>20</td><td>5</td></tr>",
                            "<tr><td>Gold Hotel</td><td>21</td><td>12</td></tr>",
                            "<tr><td>Hotel Három Hattyú</td><td>21</td><td>5</td></tr>",
                            "<tr><td>Kentaur Hotel</td><td>21</td><td>11</td></tr>",
                            "<tr><td>Lagúna Hotel</td><td>21</td><td>5</td></tr>",
                            "<tr><td>Gold Hotel</td><td>22</td><td>4</td></tr>",
                            "<tr><td>Hotel Három Hattyú</td><td>22</td><td>5</td></tr>",
                            "<tr><td>Kentaur Hotel</td><td>22</td><td>3</td></tr>",
                            "<tr><td>Lagúna Hotel</td><td>22</td><td>7</td></tr>",
                            "<tr><td>Gold Hotel</td><td>23</td><td>7</td></tr>",
                            "<tr><td>Hotel Három Hattyú</td><td>23</td><td>5</td></tr>",
                            "<tr><td>Kentaur Hotel</td><td>23</td><td>4</td></tr>",
                            "<tr><td>Lagúna Hotel</td><td>23</td><td>5</td></tr>",
                            "<tr><td>Gold Hotel</td><td>24</td><td>6</td></tr>",
                            "<tr><td>Hotel Három Hattyú</td><td>24</td><td>4</td></tr>",
                            "<tr><td>Kentaur Hotel</td><td>24</td><td>4</td></tr>",
                            "<tr><td>Lagúna Hotel</td><td>24</td><td>3</td></tr>",
                            "<tr><td>Gold Hotel</td><td>25</td><td>5</td></tr>",
                            "<tr><td>Hotel Három Hattyú</td><td>25</td><td>7</td></tr>",
                            "<tr><td>Kentaur Hotel</td><td>25</td><td>9</td></tr>",
                            "<tr><td>Gold Hotel</td><td>26</td><td>5</td></tr>",
                            "<tr><td>Hotel Három Hattyú</td><td>26</td><td>2</td></tr>",
                            "<tr><td>Kentaur Hotel</td><td>26</td><td>3</td></tr>",
                            "<tr><td>Gold Hotel</td><td>27</td><td>5</td></tr>",
                            "<tr><td>Hotel Három Hattyú</td><td>27</td><td>8</td></tr>",
                            "<tr><td>Kentaur Hotel</td><td>27</td><td>3</td></tr>",
                            "<tr><td>Gold Hotel</td><td>28</td><td>2</td></tr>",
                            "<tr><td>Hotel Három Hattyú</td><td>28</td><td>7</td></tr>",
                            "<tr><td>Kentaur Hotel</td><td>28</td><td>6</td></tr>",
                            "<tr><td>Gold Hotel</td><td>29</td><td>7</td></tr>",
                            "<tr><td>Hotel Három Hattyú</td><td>29</td><td>5</td></tr>",
                            "<tr><td>Kentaur Hotel</td><td>29</td><td>6</td></tr>",
                            "<tr><td>Családi Ház</td><td>3</td><td>6</td></tr>",
                            "<tr><td>Fortuna Apartman</td><td>3</td><td>6</td></tr>",
                            "<tr><td>Fortuna panzió</td><td>3</td><td>13</td></tr>",
                            "<tr><td>Gold Hotel</td><td>3</td><td>2</td></tr>",
                            "<tr><td>Hotel Három Hattyú</td><td>3</td><td>5</td></tr>",
                            "<tr><td>Jáde panzió</td><td>3</td><td>6</td></tr>",
                            "<tr><td>Kentaur Hotel</td><td>3</td><td>5</td></tr>",
                            "<tr><td>Lagúna Hotel</td><td>3</td><td>6</td></tr>",
                            "<tr><td>Partiszél Vendégház</td><td>3</td><td>3</td></tr>",
                            "<tr><td>Sába-Ház</td><td>3</td><td>8</td></tr>",
                            "<tr><td>Szieszta Apartmanház</td><td>3</td><td>5</td></tr>",
                            "<tr><td>Gold Hotel</td><td>30</td><td>1</td></tr>",
                            "<tr><td>Hotel Három Hattyú</td><td>30</td><td>6</td></tr>",
                            "<tr><td>Kentaur Hotel</td><td>30</td><td>5</td></tr>",
                            "<tr><td>Gold Hotel</td><td>31</td><td>6</td></tr>",
                            "<tr><td>Hotel Három Hattyú</td><td>31</td><td>8</td></tr>",
                            "<tr><td>Kentaur Hotel</td><td>31</td><td>7</td></tr>",
                            "<tr><td>Gold Hotel</td><td>32</td><td>4</td></tr>",
                            "<tr><td>Hotel Három Hattyú</td><td>32</td><td>9</td></tr>",
                            "<tr><td>Kentaur Hotel</td><td>32</td><td>5</td></tr>",
                            "<tr><td>Gold Hotel</td><td>33</td><td>6</td></tr>",
                            "<tr><td>Hotel Három Hattyú</td><td>33</td><td>5</td></tr>",
                            "<tr><td>Kentaur Hotel</td><td>33</td><td>6</td></tr>",
                            "<tr><td>Gold Hotel</td><td>34</td><td>8</td></tr>",
                            "<tr><td>Hotel Három Hattyú</td><td>34</td><td>6</td></tr>",
                            "<tr><td>Kentaur Hotel</td><td>34</td><td>8</td></tr>",
                            "<tr><td>Hotel Három Hattyú</td><td>35</td><td>1</td></tr>",
                            "<tr><td>Kentaur Hotel</td><td>35</td><td>4</td></tr>",
                            "<tr><td>Hotel Három Hattyú</td><td>36</td><td>6</td></tr>",
                            "<tr><td>Hotel Három Hattyú</td><td>37</td><td>7</td></tr>",
                            "<tr><td>Hotel Három Hattyú</td><td>38</td><td>5</td></tr>",
                            "<tr><td>Hotel Három Hattyú</td><td>39</td><td>4</td></tr>",
                            "<tr><td>Családi Ház</td><td>4</td><td>5</td></tr>",
                            "<tr><td>Fortuna Apartman</td><td>4</td><td>5</td></tr>",
                            "<tr><td>Fortuna panzió</td><td>4</td><td>14</td></tr>",
                            "<tr><td>Gold Hotel</td><td>4</td><td>5</td></tr>",
                            "<tr><td>Hotel Három Hattyú</td><td>4</td><td>10</td></tr>",
                            "<tr><td>Jáde panzió</td><td>4</td><td>6</td></tr>",
                            "<tr><td>Kentaur Hotel</td><td>4</td><td>2</td></tr>",
                            "<tr><td>Lagúna Hotel</td><td>4</td><td>7</td></tr>",
                            "<tr><td>Partiszél Vendégház</td><td>4</td><td>7</td></tr>",
                            "<tr><td>Sába-Ház</td><td>4</td><td>6</td></tr>",
                            "<tr><td>Szieszta Apartmanház</td><td>4</td><td>8</td></tr>",
                            "<tr><td>Fortuna Apartman</td><td>5</td><td>4</td></tr>",
                            "<tr><td>Fortuna panzió</td><td>5</td><td>12</td></tr>",
                            "<tr><td>Gold Hotel</td><td>5</td><td>6</td></tr>",
                            "<tr><td>Hotel Három Hattyú</td><td>5</td><td>4</td></tr>",
                            "<tr><td>Jáde panzió</td><td>5</td><td>6</td></tr>",
                            "<tr><td>Kentaur Hotel</td><td>5</td><td>6</td></tr>",
                            "<tr><td>Lagúna Hotel</td><td>5</td><td>7</td></tr>",
                            "<tr><td>Partiszél Vendégház</td><td>5</td><td>5</td></tr>",
                            "<tr><td>Sába-Ház</td><td>5</td><td>4</td></tr>",
                            "<tr><td>Szieszta Apartmanház</td><td>5</td><td>8</td></tr>",
                            "<tr><td>Fortuna Apartman</td><td>6</td><td>6</td></tr>",
                            "<tr><td>Fortuna Panzió</td><td>6</td><td>8</td></tr>",
                            "<tr><td>Gold Hotel</td><td>6</td><td>5</td></tr>",
                            "<tr><td>Hotel Három Hattyú</td><td>6</td><td>7</td></tr>",
                            "<tr><td>Kentaur Hotel</td><td>6</td><td>8</td></tr>",
                            "<tr><td>Lagúna Hotel</td><td>6</td><td>8</td></tr>",
                            "<tr><td>Sába-Ház</td><td>6</td><td>6</td></tr>",
                            "<tr><td>Szieszta Apartmanház</td><td>6</td><td>4</td></tr>",
                            "<tr><td>Fortuna Apartman</td><td>7</td><td>3</td></tr>",
                            "<tr><td>Fortuna panzió</td><td>7</td><td>7</td></tr>",
                            "<tr><td>Gold Hotel</td><td>7</td><td>5</td></tr>",
                            "<tr><td>Hotel Három Hattyú</td><td>7</td><td>7</td></tr>",
                            "<tr><td>Kentaur Hotel</td><td>7</td><td>2</td></tr>",
                            "<tr><td>Lagúna Hotel</td><td>7</td><td>6</td></tr>",
                            "<tr><td>Sába-Ház</td><td>7</td><td>6</td></tr>",
                            "<tr><td>Fortuna Apartman</td><td>8</td><td>3</td></tr>",
                            "<tr><td>Fortuna panzió</td><td>8</td><td>3</td></tr>",
                            "<tr><td>Gold Hotel</td><td>8</td><td>9</td></tr>",
                            "<tr><td>Hotel Három Hattyú</td><td>8</td><td>4</td></tr>",
                            "<tr><td>Kentaur Hotel</td><td>8</td><td>4</td></tr>",
                            "<tr><td>Lagúna Hotel</td><td>8</td><td>2</td></tr>",
                            "<tr><td>Sába-Ház</td><td>8</td><td>5</td></tr>",
                            "<tr><td>Fortuna Panzió</td><td>9</td><td>15</td></tr>",
                            "<tr><td>Gold Hotel</td><td>9</td><td>4</td></tr>",
                            "<tr><td>Hotel Három Hattyú</td><td>9</td><td>5</td></tr>",
                            "<tr><td>Kentaur Hotel</td><td>9</td><td>13</td></tr>",
                            "<tr><td>Lagúna Hotel</td><td>9</td><td>7</td></tr>",
                            "<tr><td>Sába-Ház</td><td>9</td><td>6</td></tr>",
                            "</table>"
                        ]
                    }
                }
            ],
            "execution_count": 10
        }
    ]
}