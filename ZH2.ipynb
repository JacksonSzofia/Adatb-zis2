{
    "metadata": {
        "kernelspec": {
            "name": "SQL",
            "display_name": "SQL",
            "language": "sql"
        },
        "language_info": {
            "name": "sql",
            "version": ""
        }
    },
    "nbformat_minor": 2,
    "nbformat": 4,
    "cells": [
        {
            "cell_type": "code",
            "source": [
                "select iiF(SZOBA_FK is null, 'végösszeg', cast(sz.szoba_ID as nvarchar(50))),\r\n",
                "    iif(year(mettol) is null, 'Részösszeg', cast(Year(mettol) as nvarchar(50))),\r\n",
                "    count(f.FOGLALAS_PK)\r\n",
                "from Foglalas f join szoba sz on f.SZOBA_FK = sz.szoba_ID\r\n",
                "group by rollup(sz.szoba_id, Year(mettol))\r\n",
                ""
            ],
            "metadata": {
                "azdata_cell_guid": "22da9e76-62fe-4f9b-8840-1960685f686b",
                "language": "sql"
            },
            "outputs": [
                {
                    "output_type": "error",
                    "evalue": "Msg 8120, Level 16, State 1, Line 1\r\nColumn 'Foglalas.SZOBA_FK' is invalid in the select list because it is not contained in either an aggregate function or the GROUP BY clause.",
                    "ename": "",
                    "traceback": []
                },
                {
                    "output_type": "display_data",
                    "data": {
                        "text/html": "Total execution time: 00:00:00.002"
                    },
                    "metadata": {}
                }
            ],
            "execution_count": 2
        },
        {
            "cell_type": "code",
            "source": [
                "SELECT f.*\r\n",
                "from Foglalas f join vendeg v on f.UGYFEL_FK = v.USERNEV\r\n",
                "where v.SZUL_DAT < (\r\n",
                "    select USERNEV\r\n",
                "    from Vendeg\r\n",
                "    where SZUL_DAT < (\r\n",
                "        select max(SZUL_DAT)\r\n",
                "        from vendeg\r\n",
                "    )\r\n",
                ")"
            ],
            "metadata": {
                "azdata_cell_guid": "4adaa0cf-226b-4257-bb82-27dc988e1abf",
                "language": "sql"
            },
            "outputs": [
                {
                    "output_type": "display_data",
                    "data": {
                        "text/html": "Total execution time: 00:00:00.019"
                    },
                    "metadata": {}
                },
                {
                    "output_type": "execute_result",
                    "metadata": {},
                    "execution_count": 5,
                    "data": {
                        "application/vnd.dataresource+json": {
                            "schema": {
                                "fields": [
                                    {
                                        "name": "FOGLALAS_PK"
                                    },
                                    {
                                        "name": "UGYFEL_FK"
                                    },
                                    {
                                        "name": "SZOBA_FK"
                                    },
                                    {
                                        "name": "METTOL"
                                    },
                                    {
                                        "name": "MEDDIG"
                                    },
                                    {
                                        "name": "FELNOTT_SZAM"
                                    },
                                    {
                                        "name": "GYERMEK_SZAM"
                                    }
                                ]
                            },
                            "data": []
                        },
                        "text/html": [
                            "<table>",
                            "<tr><th>FOGLALAS_PK</th><th>UGYFEL_FK</th><th>SZOBA_FK</th><th>METTOL</th><th>MEDDIG</th><th>FELNOTT_SZAM</th><th>GYERMEK_SZAM</th></tr>",
                            "</table>"
                        ]
                    }
                },
                {
                    "output_type": "error",
                    "evalue": "Msg 512, Level 16, State 1, Line 1\r\nSubquery returned more than 1 value. This is not permitted when the subquery follows =, !=, <, <= , >, >= or when the subquery is used as an expression.",
                    "ename": "",
                    "traceback": []
                }
            ],
            "execution_count": 5
        }
    ]
}