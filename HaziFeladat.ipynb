{
    "metadata": {
        "kernelspec": {
            "name": "SQL",
            "display_name": "SQL",
            "language": "sql"
        },
        "language_info": {
            "name": "sql",
            "version": ""
        }
    },
    "nbformat_minor": 2,
    "nbformat": 4,
    "cells": [
        {
            "cell_type": "code",
            "source": [
                "SELECT  min(REND_DATUM) as 'első rendelés dátuma',\r\n",
                "        max(REND_DATUM) as 'utolsó rendelés dátuma'\r\n",
                "FROM rendeles"
            ],
            "metadata": {
                "azdata_cell_guid": "72b89b2c-6b5c-4e2b-a0fb-8ab6f6c3ddbe",
                "language": "sql"
            },
            "outputs": [
                {
                    "output_type": "display_data",
                    "data": {
                        "text/html": "(1 row affected)"
                    },
                    "metadata": {}
                },
                {
                    "output_type": "display_data",
                    "data": {
                        "text/html": "Total execution time: 00:00:00.026"
                    },
                    "metadata": {}
                },
                {
                    "output_type": "execute_result",
                    "metadata": {},
                    "execution_count": 32,
                    "data": {
                        "application/vnd.dataresource+json": {
                            "schema": {
                                "fields": [
                                    {
                                        "name": "első rendelés dátuma"
                                    },
                                    {
                                        "name": "utolsó rendelés dátuma"
                                    }
                                ]
                            },
                            "data": [
                                {
                                    "első rendelés dátuma": "2015-05-01",
                                    "utolsó rendelés dátuma": "2017-04-01"
                                }
                            ]
                        },
                        "text/html": [
                            "<table>",
                            "<tr><th>első rendelés dátuma</th><th>utolsó rendelés dátuma</th></tr>",
                            "<tr><td>2015-05-01</td><td>2017-04-01</td></tr>",
                            "</table>"
                        ]
                    }
                }
            ],
            "execution_count": 32
        },
        {
            "cell_type": "code",
            "source": [
                "-- fizetési módok áránya\r\n",
                "SELECT \r\n",
                "    FIZ_MOD AS 'Fizetési típusok', \r\n",
                "    COUNT(*) as 'db szám',\r\n",
                "    count(*) * 100.0 / sum(count(*)) over() as 'százalék'\r\n",
                "from rendeles\r\n",
                "WHERE FIZ_MOD IS NOT null\r\n",
                "GROUP BY FIZ_MOD\r\n",
                "ORDER BY FIZ_MOD "
            ],
            "metadata": {
                "azdata_cell_guid": "13b2de3f-401c-4b72-b852-df562577ad3a",
                "language": "sql"
            },
            "outputs": [
                {
                    "output_type": "display_data",
                    "data": {
                        "text/html": "(3 rows affected)"
                    },
                    "metadata": {}
                },
                {
                    "output_type": "display_data",
                    "data": {
                        "text/html": "Total execution time: 00:00:00.331"
                    },
                    "metadata": {}
                },
                {
                    "output_type": "execute_result",
                    "metadata": {},
                    "execution_count": 40,
                    "data": {
                        "application/vnd.dataresource+json": {
                            "schema": {
                                "fields": [
                                    {
                                        "name": "Fizetési típusok"
                                    },
                                    {
                                        "name": "db szám"
                                    },
                                    {
                                        "name": "százalék"
                                    }
                                ]
                            },
                            "data": [
                                {
                                    "Fizetési típusok": "Átutalás",
                                    "db szám": "11284",
                                    "százalék": "40.178030977390"
                                },
                                {
                                    "Fizetési típusok": "Bankkártya",
                                    "db szám": "14003",
                                    "százalék": "49.859355527861"
                                },
                                {
                                    "Fizetési típusok": "Készpénz",
                                    "db szám": "2798",
                                    "százalék": "9.962613494748"
                                }
                            ]
                        },
                        "text/html": [
                            "<table>",
                            "<tr><th>Fizetési típusok</th><th>db szám</th><th>százalék</th></tr>",
                            "<tr><td>Átutalás</td><td>11284</td><td>40.178030977390</td></tr>",
                            "<tr><td>Bankkártya</td><td>14003</td><td>49.859355527861</td></tr>",
                            "<tr><td>Készpénz</td><td>2798</td><td>9.962613494748</td></tr>",
                            "</table>"
                        ]
                    }
                }
            ],
            "execution_count": 40
        },
        {
            "cell_type": "code",
            "source": [
                "--null értékek a számla címben\r\n",
                "SELECT sor_tipus,\r\n",
                "    COUNT(*) as 'db szám'\r\n",
                "FROM \r\n",
                "    (SELECT \r\n",
                "        CASE WHEN [SZAMLA_CIM] IS NULL THEN 'Null'\r\n",
                "            WHEN LEN(SZAMLA_CIM) = 0 THEN 'Üres'\r\n",
                "            ELSE 'Nem üres' \r\n",
                "            END AS sor_tipus\r\n",
                "        FROM rendeles) rows\r\n",
                "GROUP BY sor_tipus"
            ],
            "metadata": {
                "azdata_cell_guid": "b5900607-2649-4202-9e7a-39f570349bd1",
                "language": "sql"
            },
            "outputs": [
                {
                    "output_type": "display_data",
                    "data": {
                        "text/html": "(2 rows affected)"
                    },
                    "metadata": {}
                },
                {
                    "output_type": "display_data",
                    "data": {
                        "text/html": "Total execution time: 00:00:00.053"
                    },
                    "metadata": {}
                },
                {
                    "output_type": "execute_result",
                    "metadata": {},
                    "execution_count": 21,
                    "data": {
                        "application/vnd.dataresource+json": {
                            "schema": {
                                "fields": [
                                    {
                                        "name": "sor_tipus"
                                    },
                                    {
                                        "name": "db szám"
                                    }
                                ]
                            },
                            "data": [
                                {
                                    "sor_tipus": "Null",
                                    "db szám": "25535"
                                },
                                {
                                    "sor_tipus": "Nem üres",
                                    "db szám": "2550"
                                }
                            ]
                        },
                        "text/html": [
                            "<table>",
                            "<tr><th>sor_tipus</th><th>db szám</th></tr>",
                            "<tr><td>Null</td><td>25535</td></tr>",
                            "<tr><td>Nem üres</td><td>2550</td></tr>",
                            "</table>"
                        ]
                    }
                }
            ],
            "execution_count": 21
        },
        {
            "cell_type": "code",
            "source": [
                "--legtöbb szállítás ezeken a napokon történt\r\n",
                "SELECT TOP 10\r\n",
                "    SZALL_DATUM AS 'dátum', \r\n",
                "    COUNT(*) as 'db szám'\r\n",
                "from Rendeles\r\n",
                "WHERE SZALL_DATUM IS NOT null\r\n",
                "GROUP BY SZALL_DATUM\r\n",
                "ORDER BY COUNT(*) desc"
            ],
            "metadata": {
                "azdata_cell_guid": "523dadc6-f763-4cec-b0ac-8ad664639228",
                "language": "sql"
            },
            "outputs": [
                {
                    "output_type": "display_data",
                    "data": {
                        "text/html": "(10 rows affected)"
                    },
                    "metadata": {}
                },
                {
                    "output_type": "display_data",
                    "data": {
                        "text/html": "Total execution time: 00:00:00.033"
                    },
                    "metadata": {}
                },
                {
                    "output_type": "execute_result",
                    "metadata": {},
                    "execution_count": 8,
                    "data": {
                        "application/vnd.dataresource+json": {
                            "schema": {
                                "fields": [
                                    {
                                        "name": "dátum"
                                    },
                                    {
                                        "name": "db szám"
                                    }
                                ]
                            },
                            "data": [
                                {
                                    "dátum": "2015-11-03",
                                    "db szám": "58"
                                },
                                {
                                    "dátum": "2016-10-25",
                                    "db szám": "57"
                                },
                                {
                                    "dátum": "2016-01-21",
                                    "db szám": "55"
                                },
                                {
                                    "dátum": "2017-02-28",
                                    "db szám": "55"
                                },
                                {
                                    "dátum": "2016-10-17",
                                    "db szám": "55"
                                },
                                {
                                    "dátum": "2015-12-05",
                                    "db szám": "55"
                                },
                                {
                                    "dátum": "2015-09-28",
                                    "db szám": "54"
                                },
                                {
                                    "dátum": "2016-11-14",
                                    "db szám": "54"
                                },
                                {
                                    "dátum": "2015-06-26",
                                    "db szám": "54"
                                },
                                {
                                    "dátum": "2016-08-15",
                                    "db szám": "54"
                                }
                            ]
                        },
                        "text/html": [
                            "<table>",
                            "<tr><th>dátum</th><th>db szám</th></tr>",
                            "<tr><td>2015-11-03</td><td>58</td></tr>",
                            "<tr><td>2016-10-25</td><td>57</td></tr>",
                            "<tr><td>2016-01-21</td><td>55</td></tr>",
                            "<tr><td>2017-02-28</td><td>55</td></tr>",
                            "<tr><td>2016-10-17</td><td>55</td></tr>",
                            "<tr><td>2015-12-05</td><td>55</td></tr>",
                            "<tr><td>2015-09-28</td><td>54</td></tr>",
                            "<tr><td>2016-11-14</td><td>54</td></tr>",
                            "<tr><td>2015-06-26</td><td>54</td></tr>",
                            "<tr><td>2016-08-15</td><td>54</td></tr>",
                            "</table>"
                        ]
                    }
                }
            ],
            "execution_count": 8
        }
    ]
}